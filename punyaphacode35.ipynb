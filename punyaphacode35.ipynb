{
  "nbformat": 4,
  "nbformat_minor": 0,
  "metadata": {
    "colab": {
      "provenance": [],
      "authorship_tag": "ABX9TyN9n3+m4F+vR42Euqw84gKX",
      "include_colab_link": true
    },
    "kernelspec": {
      "name": "python3",
      "display_name": "Python 3"
    },
    "language_info": {
      "name": "python"
    }
  },
  "cells": [
    {
      "cell_type": "markdown",
      "metadata": {
        "id": "view-in-github",
        "colab_type": "text"
      },
      "source": [
        "<a href=\"https://colab.research.google.com/github/babypopolinny/Project-1_Coding/blob/main/punyaphacode35.ipynb\" target=\"_parent\"><img src=\"https://colab.research.google.com/assets/colab-badge.svg\" alt=\"Open In Colab\"/></a>"
      ]
    },
    {
      "cell_type": "code",
      "execution_count": 1,
      "metadata": {
        "colab": {
          "base_uri": "https://localhost:8080/"
        },
        "id": "47TaQJukWnyM",
        "outputId": "aa4656cd-31f3-493e-fa61-04b2f04d0808"
      },
      "outputs": [
        {
          "output_type": "stream",
          "name": "stdout",
          "text": [
            "กรุณากรอกน้ำหนักสินค้าของคุณ (กิโลกรัม): 10\n",
            "กรุณากรอกรหัสโปรโมชั่น (เช่น PROMO, FREESHIP): PROMO\n",
            "ค่าขนส่งที่ต้องชำระ: 135.0 บาท\n"
          ]
        }
      ],
      "source": [
        "\n",
        "def คำนวณค่าขนส่ง(nw, base_rate, promo_code=None):\n",
        "    # กำหนดค่าขนส่งตามน้ำหนัก\n",
        "    if nw <= 1:\n",
        "        shipping_cost = base_rate\n",
        "    elif nw <= 5:\n",
        "        shipping_cost = base_rate * 1.2\n",
        "    elif nw <= 10:\n",
        "        shipping_cost = base_rate * 1.5\n",
        "    else:\n",
        "        shipping_cost = base_rate * 2\n",
        "\n",
        "    # เช็คโปรโมชั่นและคำนวณส่วนลด\n",
        "    if promo_code == 'PROMO':\n",
        "        shipping_cost *= 0.9  # ส่วนลด 10%\n",
        "    elif promo_code == 'FREESHIP':\n",
        "        shipping_cost = 0  # ค่าขนส่งฟรี\n",
        "    elif promo_code == 'DISCOUNT20':\n",
        "        shipping_cost *= 0.8  # ส่วนลด 20%\n",
        "    elif promo_code == 'DISCOUNT30':\n",
        "        shipping_cost *= 0.7  # ส่วนลด 30%\n",
        "\n",
        "    return shipping_cost\n",
        "\n",
        "\n",
        "# รับค่าน้ำหนักสินค้าและรหัสโปรโมชั่นจากผู้ใช้\n",
        "น้ำหนัก = float(input(\"กรุณากรอกน้ำหนักสินค้าของคุณ (กิโลกรัม): \"))\n",
        "promo_code = input(\"กรุณากรอกรหัสโปรโมชั่น (เช่น PROMO, FREESHIP): \")\n",
        "\n",
        "# ค่าขนส่งฐาน\n",
        "ราคาขนส่งฐาน = 100  # ราคาขนส่งฐานที่กำหนด\n",
        "\n",
        "# คำนวณค่าขนส่ง\n",
        "ค่าใช้จ่ายขนส่ง = คำนวณค่าขนส่ง(น้ำหนัก, ราคาขนส่งฐาน, promo_code)\n",
        "\n",
        "# แสดงผลลัพธ์\n",
        "print(f'ค่าขนส่งที่ต้องชำระ: {ค่าใช้จ่ายขนส่ง} บาท')"
      ]
    }
  ]
}
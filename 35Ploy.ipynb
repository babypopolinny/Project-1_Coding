{
  "nbformat": 4,
  "nbformat_minor": 0,
  "metadata": {
    "colab": {
      "provenance": [],
      "authorship_tag": "ABX9TyNGyBSufNx3MMhLX0MLsxro",
      "include_colab_link": true
    },
    "kernelspec": {
      "name": "python3",
      "display_name": "Python 3"
    },
    "language_info": {
      "name": "python"
    }
  },
  "cells": [
    {
      "cell_type": "markdown",
      "metadata": {
        "id": "view-in-github",
        "colab_type": "text"
      },
      "source": [
        "<a href=\"https://colab.research.google.com/github/babypopolinny/Project-1_Coding/blob/main/35Ploy.ipynb\" target=\"_parent\"><img src=\"https://colab.research.google.com/assets/colab-badge.svg\" alt=\"Open In Colab\"/></a>"
      ]
    },
    {
      "cell_type": "markdown",
      "source": [
        "# เลขที่ 35 พลอย ปุณยาภา สุขกรี\n",
        "No. 35 Ploy Punyapha Sukkree"
      ],
      "metadata": {
        "id": "hNqCijQHcWjt"
      }
    },
    {
      "cell_type": "markdown",
      "source": [
        "20 พฤษภาคม 2567\n",
        "\n",
        "print\n",
        "\n",
        "\n",
        "deta type\n",
        "\n",
        "type"
      ],
      "metadata": {
        "id": "TDc2ay3QBTFI"
      }
    },
    {
      "cell_type": "markdown",
      "source": [],
      "metadata": {
        "id": "CoZs5CgDQFYa"
      }
    },
    {
      "cell_type": "code",
      "source": [
        "print(\"ฮายๆ เราชื่อ พลอย อิอิ><\")"
      ],
      "metadata": {
        "colab": {
          "base_uri": "https://localhost:8080/"
        },
        "id": "aIAEx0ihBcQQ",
        "outputId": "569fe0cd-05bf-485f-9fa2-c2a54556088e"
      },
      "execution_count": null,
      "outputs": [
        {
          "output_type": "stream",
          "name": "stdout",
          "text": [
            "ฮายๆ เราชื่อ พลอย อิอิ><\n"
          ]
        }
      ]
    },
    {
      "cell_type": "code",
      "source": [
        "print(5+5)"
      ],
      "metadata": {
        "colab": {
          "base_uri": "https://localhost:8080/"
        },
        "id": "tzPXnGpWFD05",
        "outputId": "90afdb1f-1767-4dca-9070-401432887121"
      },
      "execution_count": null,
      "outputs": [
        {
          "output_type": "stream",
          "name": "stdout",
          "text": [
            "10\n"
          ]
        }
      ]
    },
    {
      "cell_type": "code",
      "source": [
        "a=5\n",
        "b=2\n",
        "c = a - b\n",
        "print(f\"5.00 - 2.00 = {c:.4f}\")"
      ],
      "metadata": {
        "colab": {
          "base_uri": "https://localhost:8080/"
        },
        "id": "PcZKwwq7FTR5",
        "outputId": "c9373adf-5190-4161-e021-77d0799d0da0"
      },
      "execution_count": null,
      "outputs": [
        {
          "output_type": "stream",
          "name": "stdout",
          "text": [
            "5.00 - 2.00 = 3.0000\n"
          ]
        }
      ]
    },
    {
      "cell_type": "markdown",
      "source": [
        "29 พฤษภาคม 2024\n",
        ": ได้รับความรู้เรื่องตัวแปรค่ะ โดยใช้คำสั่ง Type ว่าตัวแปรนี้เขียนได้ไหม หรือ ไม่ได้"
      ],
      "metadata": {
        "id": "DKmx_QVrZPE_"
      }
    },
    {
      "cell_type": "code",
      "source": [
        "a = 2\n",
        "b = 1.5\n",
        "c = \"Ploy\"\n",
        "\n",
        "type(c)\n",
        "\n",
        "print(\"ตัวแปรที่ฉันคิด คือ money\")"
      ],
      "metadata": {
        "colab": {
          "base_uri": "https://localhost:8080/"
        },
        "id": "Ud1XBj3hZVpa",
        "outputId": "08a4e049-c70b-4b31-fb67-9022919a5f5f"
      },
      "execution_count": null,
      "outputs": [
        {
          "output_type": "stream",
          "name": "stdout",
          "text": [
            "ตัวแปรที่ฉันคิด คือ money\n"
          ]
        }
      ]
    },
    {
      "cell_type": "code",
      "source": [
        "numeric1 = 5\n",
        "print(numeric1)\n",
        "type(numeric1)"
      ],
      "metadata": {
        "colab": {
          "base_uri": "https://localhost:8080/"
        },
        "id": "EE73dx6ekqI3",
        "outputId": "b1e76d15-253b-4674-c299-d55b77110637"
      },
      "execution_count": null,
      "outputs": [
        {
          "output_type": "stream",
          "name": "stdout",
          "text": [
            "5\n"
          ]
        },
        {
          "output_type": "execute_result",
          "data": {
            "text/plain": [
              "int"
            ]
          },
          "metadata": {},
          "execution_count": 9
        }
      ]
    },
    {
      "cell_type": "markdown",
      "source": [
        "5 มิถุนายน 2024 วันนี้ได้รู้เรื่องการสร้างตัวแปร string1 ที่คุณครูเฟิร์นได้ยกตัวอย่างโจทย์มาให้ทำหนึ่งข้อค่ะ\n",
        "\n"
      ],
      "metadata": {
        "id": "EIWaelXIYIHM"
      }
    },
    {
      "cell_type": "code",
      "source": [
        "string1 =  \"Python\"\n",
        "print(string1[0])"
      ],
      "metadata": {
        "colab": {
          "base_uri": "https://localhost:8080/"
        },
        "id": "CJ1LbGgLZKg8",
        "outputId": "e955b1c0-193c-4551-bdde-f887c4461e31"
      },
      "execution_count": null,
      "outputs": [
        {
          "output_type": "stream",
          "name": "stdout",
          "text": [
            "P\n"
          ]
        }
      ]
    },
    {
      "cell_type": "markdown",
      "source": [
        "input - การเขียนโค้ด string โจทย์คือ \"Python\"\n",
        "\n",
        "process - การทำให้โค้ดรันออกมาเป็นคำตอบตามที่โจทย์ให้ไว้\n",
        "\n",
        "output - การรับโค้ดที่ได้มาจากโจทย์ แล้วแสดงผลออกมาเป็นคำตอบตามคำสั่ง"
      ],
      "metadata": {
        "id": "XVHBZKDTgF32"
      }
    },
    {
      "cell_type": "code",
      "source": [
        "\n",
        "wide = int(input(\"ความกว้าง(ซม.) คือ \"))\n",
        "long =  int(input(\"ความยาว(ซม.) คือ \"))\n",
        "area = wide * long\n",
        "print(\"พื้นที่สี่เหลี่ยมผืนผ้า เท่ากับ\" ,area, \"ตร.ซม.\" )"
      ],
      "metadata": {
        "colab": {
          "base_uri": "https://localhost:8080/"
        },
        "id": "2bE4_9IGQXtG",
        "outputId": "5b2410e2-ef6f-4205-db4d-c711d05ab718"
      },
      "execution_count": null,
      "outputs": [
        {
          "output_type": "stream",
          "name": "stdout",
          "text": [
            "ความกว้าง(ซม.) คือ 12\n",
            "ความยาว(ซม.) คือ 10\n",
            "พื้นที่สี่เหลี่ยมผืนผ้า เท่ากับ 120 ตร.ซม.\n"
          ]
        }
      ]
    },
    {
      "cell_type": "code",
      "source": [
        "s = int(input(\"ระยะทาง(เมตร) คือ\"))\n",
        "t = int(input(\"เวลา(วินาที) คือ\"))\n",
        "v = s / t\n",
        "print(\"ความเร็ว เท่ากับ\" ,v,\"m/s\")"
      ],
      "metadata": {
        "colab": {
          "base_uri": "https://localhost:8080/"
        },
        "id": "bMvpTiGAT6pt",
        "outputId": "85398b3f-5db2-44f0-aaf6-e370e3277694"
      },
      "execution_count": null,
      "outputs": [
        {
          "output_type": "stream",
          "name": "stdout",
          "text": [
            "ระยะทาง(เมตร) คือ10\n",
            "เวลา(วินาที) คือ2\n",
            "ความเร็ว เท่ากับ 5.0 m/s\n"
          ]
        }
      ]
    },
    {
      "cell_type": "code",
      "source": [
        "print(\"โปรแกรมคำนวณมวลกาย By babypopolin\")\n",
        "name = input(\"กรุณากรอกชื่อของคุณ \")\n",
        "print(\"สวัสดี ยินดีต้อนรับคุณ \" ,name,)\n",
        "weigh = float(input(\"น้ำหนัก (กก.) คือ \"))\n",
        "height = float(input(\"ส่วนสูง (เซนติเมตร) คือ \"))\n",
        "BMI = weigh / height**2\n",
        "print(\"ค่าดัชนีมวลกาย เท่ากับ \", BMI ,)"
      ],
      "metadata": {
        "colab": {
          "base_uri": "https://localhost:8080/"
        },
        "id": "kdf7aZLZZfXz",
        "outputId": "d4567648-56bc-4029-e34b-b68bd733c70f"
      },
      "execution_count": null,
      "outputs": [
        {
          "output_type": "stream",
          "name": "stdout",
          "text": [
            "โปรแกรมคำนวณมวลกาย By babypopolin\n",
            "กรุณากรอกชื่อของคุณ พลอย\n",
            "สวัสดี ยินดีต้อนรับคุณ  พลอย\n",
            "น้ำหนัก (กก.) คือ 78\n",
            "ส่วนสูง (เซนติเมตร) คือ 1.5\n",
            "ค่าดัชนีมวลกาย เท่ากับ  34.666666666666664\n"
          ]
        }
      ]
    },
    {
      "cell_type": "markdown",
      "source": [
        "**1 July 2567**\n",
        "เงื่อนไขของ BMI\n",
        "ถ้า BMI น้อยกว่า 18.5 แปลผล คือ ต่ำกว่าเกณฑ์ แนะนำ คือ กินอาหารตามคำแนะนำของหมอ หรือพักผ่อนให้เพียงพอ\n",
        "\n",
        "ถ้า BMI เท่ากับ (อยู่ระหว่าง) 18.5-22.9 แปลผล คือ สมส่วน หรือ ตามเกณฑ์ คือ"
      ],
      "metadata": {
        "id": "W8syKvsyQJrR"
      }
    },
    {
      "cell_type": "markdown",
      "source": [
        "น.ส.ปุณยาภา สุขกรี เลขที่ 35\n",
        "\n",
        "โจทย์เขียนโปรแกรมด้วย if-else ที่เกี่ยวข้องกับคอมพิวเตอร์\n",
        "\n",
        "เช็คสถานะอินเทอร์เน็ต: o รับสถานะอินเทอร์เน็ต ถ้าค่า Ping มากกว่า 100 ms แสดงว่า \"อินเทอร์เน็ตช้า\" มิฉะนั้นแสดงว่า \"อินเทอร์เน็ตเร็ว\""
      ],
      "metadata": {
        "id": "AXRr7yxO9hwL"
      }
    },
    {
      "cell_type": "code",
      "source": [
        "ping = input(\" กรอกค่า Ping (ms)\")\n",
        "if int(ping) > 100:\n",
        "  print(\"อินเทอร์เน็ตช้า\")\n",
        "else :\n",
        "    print(\"อินเทอร์เน็ตเร็ว\")"
      ],
      "metadata": {
        "colab": {
          "base_uri": "https://localhost:8080/"
        },
        "id": "7VnVScbi-BJF",
        "outputId": "09deebe3-354d-42aa-c1cb-1d1263d1afbd"
      },
      "execution_count": null,
      "outputs": [
        {
          "output_type": "stream",
          "name": "stdout",
          "text": [
            " กรอกค่า Ping (ms)150\n",
            "อินเทอร์เน็ตช้า\n"
          ]
        }
      ]
    },
    {
      "cell_type": "markdown",
      "source": [
        "14/01/68 Punyapha Sukkree (PLoy) 35\n",
        "\n",
        "Function : Lateral Surface Area of a Cone"
      ],
      "metadata": {
        "id": "aCP57h_sIM7t"
      }
    },
    {
      "cell_type": "code",
      "source": [
        "def cone_lateral_surface_area(r,l):\n",
        "      area_cone = 3.14 * r * l\n",
        "      print(\"Laterl surface area of a cone is : %.2f\" % area_cone, \"sq.cm\")\n",
        "\n",
        "cone_lateral_surface_area(5,10)"
      ],
      "metadata": {
        "id": "2QN0Oy1oIkD-",
        "outputId": "a0c377e8-61cb-461b-def3-3311e12ac12a",
        "colab": {
          "base_uri": "https://localhost:8080/"
        }
      },
      "execution_count": 1,
      "outputs": [
        {
          "output_type": "stream",
          "name": "stdout",
          "text": [
            "Laterl surface area of a cone is : 157.00 sq.cm\n"
          ]
        }
      ]
    }
  ]
}